{
 "cells": [
  {
   "cell_type": "code",
   "execution_count": 1,
   "id": "2b6f7067-8330-43da-9d89-ef35cccdbf5b",
   "metadata": {},
   "outputs": [],
   "source": [
    "# Assuming we launched from goliath/notebooks, add the codebase itself to the path\n",
    "import sys\n",
    "sys.path.insert(0, '../')"
   ]
  },
  {
   "cell_type": "code",
   "execution_count": 2,
   "id": "2ee6ff7e-524c-4e4d-8a26-0058d7ed963a",
   "metadata": {},
   "outputs": [
    {
     "name": "stdout",
     "output_type": "stream",
     "text": [
      "/mnt/home/julietamartinez/goliath\n"
     ]
    }
   ],
   "source": [
    "%cd ..\n",
    "%bookmark GOLIATH_HOME"
   ]
  },
  {
   "cell_type": "code",
   "execution_count": 3,
   "id": "9b263c12-ef10-4bf3-8d0b-0c26b2614b7e",
   "metadata": {},
   "outputs": [],
   "source": [
    "# Set your data path here!\n",
    "data_path = \"/mnt/captures/oss/goliath/s--20230306--1509--AXE977--pilot--ProjectGoliath--ClothedBody/\""
   ]
  },
  {
   "cell_type": "code",
   "execution_count": 4,
   "id": "fb8cf10c-6920-4b14-b01d-18d24c97ed6d",
   "metadata": {},
   "outputs": [],
   "source": [
    "# !mkdir -p checkpoints/clothed-body/AXE977\n",
    "# !wget https://fb-baas-f32eacb9-8abb-11eb-b2b8-4857dd089e15.s3.amazonaws.com/goliath-for-review-full/checkpoints/AXE977/latest.pt -O checkpoints/clothed-body/AXE977/latest.pt"
   ]
  },
  {
   "cell_type": "code",
   "execution_count": null,
   "id": "e0548ce6-8a62-43ed-9b0b-574c746906d5",
   "metadata": {},
   "outputs": [],
   "source": [
    "# !mkdir -p checkpoints/clothed-body/AXE977\n",
    "# !wget https://fb-baas-f32eacb9-8abb-11eb-b2b8-4857dd089e15.s3.amazonaws.com/goliath-for-review-full/checkpoints/AXE977/config.yml -O checkpoints/clothed-body/AXE977/config.yml"
   ]
  },
  {
   "cell_type": "code",
   "execution_count": 18,
   "id": "49d8c665-2a28-449d-83ba-892f25a66b7b",
   "metadata": {},
   "outputs": [
    {
     "name": "stderr",
     "output_type": "stream",
     "text": [
      "[2024-12-03 16:27:15][INFO][ca_code.utils.dataloader]:Found 212 cameras in the calibration file\n",
      "[2024-12-03 16:27:15][INFO][ca_code.utils.dataloader]:Left with 212 cameras after filtering for zips present in image/ folder\n"
     ]
    },
    {
     "name": "stdout",
     "output_type": "stream",
     "text": [
      "(bookmark:GOLIATH_HOME) -> /mnt/home/julietamartinez/goliath\n",
      "/mnt/home/julietamartinez/goliath\n"
     ]
    }
   ],
   "source": [
    "%cd GOLIATH_HOME\n",
    "\n",
    "# Load a pre-built config, it will make things easier\n",
    "from omegaconf import DictConfig, OmegaConf\n",
    "from ca_code.utils.dataloader import BodyDataset, collate_fn\n",
    "from torch.utils.data import DataLoader\n",
    "\n",
    "# config = OmegaConf.load(\"checkpoints/clothed-body/AXE977/config.yml\")\n",
    "config = OmegaConf.load(\"config/mesh_vae_example.yml\")\n",
    "\n",
    "# Create the dataset that we will use\n",
    "config.data.root_path = data_path\n",
    "config.data.shared_assets_path = \"data/shared/static_assets_body.pt\"\n",
    "config.data.split = \"test\"\n",
    "config.data.fully_lit_only = True\n",
    "config.data.partially_lit_only = False\n",
    "# config.data.frames_subset = config.test.data.frames_subset\n",
    "\n",
    "dataset = BodyDataset(**config.data)\n",
    "\n",
    "config.dataloader.shuffle = False\n",
    "config.dataloader.batch_size = 1\n",
    "config.dataloader.num_workers = 4\n",
    "\n",
    "# dataset.cameras = [\"400933\"]\n",
    "loader = DataLoader(dataset, collate_fn=collate_fn, **config.dataloader)"
   ]
  },
  {
   "cell_type": "code",
   "execution_count": 20,
   "id": "863fc9a1-c45f-4727-908e-631fc8b81067",
   "metadata": {},
   "outputs": [
    {
     "name": "stdout",
     "output_type": "stream",
     "text": [
      "tensor([[   682,   7356,    682,    682],\n",
      "        [   692,   7360,    692,    692],\n",
      "        [   596,   7359,    596,    596],\n",
      "        ...,\n",
      "        [148147, 148147, 148147, 148147],\n",
      "        [148021, 148021, 148021, 148021],\n",
      "        [148028, 148028, 148028, 148028]], dtype=torch.int32)\n"
     ]
    },
    {
     "name": "stderr",
     "output_type": "stream",
     "text": [
      "[2024-12-03 16:28:10][INFO][ca_code.utils.geom]:impainting index image might take a while for sizes >= 1024\n",
      "[2024-12-03 16:28:12][INFO][ca_code.models.mesh_vae]:ConvDecoder: n_channels = [64, 32, 16, 8, 4]\n",
      "/mnt/home/julietamartinez/goliath/ca_code/nn/layers.py:233: FutureWarning: `torch.nn.utils.weight_norm` is deprecated in favor of `torch.nn.utils.parametrizations.weight_norm`.\n",
      "  wn = WeightNorm.apply(\n",
      "[2024-12-03 16:28:12][WARNING][ca_code.nn.color_cal]:Requested color-calibration identity camera not present, defaulting to 400870.\n",
      "[2024-12-03 16:28:12][INFO][ca_code.utils.train]:loading checkpoint checkpoints/clothed-body/AXE977/latest.pt\n"
     ]
    },
    {
     "ename": "RuntimeError",
     "evalue": "Error(s) in loading state_dict for AutoEncoder:\n\tsize mismatch for pixel_cal.bias: copying a param with shape torch.Size([133, 1, 166, 256]) from checkpoint, the shape in current model is torch.Size([212, 1, 166, 256]).\n\tsize mismatch for learn_blur.weights_raw: copying a param with shape torch.Size([133, 3]) from checkpoint, the shape in current model is torch.Size([212, 3]).\n\tsize mismatch for cal.holder.params: copying a param with shape torch.Size([133, 6]) from checkpoint, the shape in current model is torch.Size([212, 6]).",
     "output_type": "error",
     "traceback": [
      "\u001b[0;31m---------------------------------------------------------------------------\u001b[0m",
      "\u001b[0;31mRuntimeError\u001b[0m                              Traceback (most recent call last)",
      "Cell \u001b[0;32mIn[20], line 24\u001b[0m\n\u001b[1;32m     21\u001b[0m model\u001b[38;5;241m.\u001b[39mcal_enabled \u001b[38;5;241m=\u001b[39m \u001b[38;5;28;01mFalse\u001b[39;00m\n\u001b[1;32m     23\u001b[0m \u001b[38;5;66;03m# loading model checkpoint\u001b[39;00m\n\u001b[0;32m---> 24\u001b[0m \u001b[43mload_checkpoint\u001b[49m\u001b[43m(\u001b[49m\u001b[43mckpt_path\u001b[49m\u001b[43m,\u001b[49m\u001b[43m \u001b[49m\u001b[43mmodules\u001b[49m\u001b[38;5;241;43m=\u001b[39;49m\u001b[43m{\u001b[49m\u001b[38;5;124;43m\"\u001b[39;49m\u001b[38;5;124;43mmodel\u001b[39;49m\u001b[38;5;124;43m\"\u001b[39;49m\u001b[43m:\u001b[49m\u001b[43m \u001b[49m\u001b[43mmodel\u001b[49m\u001b[43m}\u001b[49m\u001b[43m,\u001b[49m\u001b[43m \u001b[49m\u001b[43mstrict\u001b[49m\u001b[38;5;241;43m=\u001b[39;49m\u001b[38;5;28;43;01mFalse\u001b[39;49;00m\u001b[43m)\u001b[49m\n",
      "File \u001b[0;32m/mnt/home/julietamartinez/goliath/ca_code/utils/train.py:148\u001b[0m, in \u001b[0;36mload_checkpoint\u001b[0;34m(ckpt_path, modules, iteration, strict, map_location, ignore_names)\u001b[0m\n\u001b[1;32m    146\u001b[0m     params \u001b[38;5;241m=\u001b[39m filter_params(params, ignore_names[name])\n\u001b[1;32m    147\u001b[0m \u001b[38;5;28;01mif\u001b[39;00m \u001b[38;5;28misinstance\u001b[39m(mod, nn\u001b[38;5;241m.\u001b[39mModule):\n\u001b[0;32m--> 148\u001b[0m     \u001b[43mmod\u001b[49m\u001b[38;5;241;43m.\u001b[39;49m\u001b[43mload_state_dict\u001b[49m\u001b[43m(\u001b[49m\u001b[43mparams\u001b[49m\u001b[43m,\u001b[49m\u001b[43m \u001b[49m\u001b[43mstrict\u001b[49m\u001b[38;5;241;43m=\u001b[39;49m\u001b[43mstrict\u001b[49m\u001b[43m)\u001b[49m\n\u001b[1;32m    149\u001b[0m \u001b[38;5;28;01melif\u001b[39;00m \u001b[38;5;28misinstance\u001b[39m(mod, th\u001b[38;5;241m.\u001b[39moptim\u001b[38;5;241m.\u001b[39mOptimizer):\n\u001b[1;32m    150\u001b[0m     mod\u001b[38;5;241m.\u001b[39mload_state_dict(params)\n",
      "File \u001b[0;32m/mnt/projects/conda-envs/dgxenv-2024-10-01-10-09-53-x9526-centos9-py310-pt240/lib/python3.10/site-packages/torch/nn/modules/module.py:2215\u001b[0m, in \u001b[0;36mModule.load_state_dict\u001b[0;34m(self, state_dict, strict, assign)\u001b[0m\n\u001b[1;32m   2210\u001b[0m         error_msgs\u001b[38;5;241m.\u001b[39minsert(\n\u001b[1;32m   2211\u001b[0m             \u001b[38;5;241m0\u001b[39m, \u001b[38;5;124m'\u001b[39m\u001b[38;5;124mMissing key(s) in state_dict: \u001b[39m\u001b[38;5;132;01m{}\u001b[39;00m\u001b[38;5;124m. \u001b[39m\u001b[38;5;124m'\u001b[39m\u001b[38;5;241m.\u001b[39mformat(\n\u001b[1;32m   2212\u001b[0m                 \u001b[38;5;124m'\u001b[39m\u001b[38;5;124m, \u001b[39m\u001b[38;5;124m'\u001b[39m\u001b[38;5;241m.\u001b[39mjoin(\u001b[38;5;124mf\u001b[39m\u001b[38;5;124m'\u001b[39m\u001b[38;5;124m\"\u001b[39m\u001b[38;5;132;01m{\u001b[39;00mk\u001b[38;5;132;01m}\u001b[39;00m\u001b[38;5;124m\"\u001b[39m\u001b[38;5;124m'\u001b[39m \u001b[38;5;28;01mfor\u001b[39;00m k \u001b[38;5;129;01min\u001b[39;00m missing_keys)))\n\u001b[1;32m   2214\u001b[0m \u001b[38;5;28;01mif\u001b[39;00m \u001b[38;5;28mlen\u001b[39m(error_msgs) \u001b[38;5;241m>\u001b[39m \u001b[38;5;241m0\u001b[39m:\n\u001b[0;32m-> 2215\u001b[0m     \u001b[38;5;28;01mraise\u001b[39;00m \u001b[38;5;167;01mRuntimeError\u001b[39;00m(\u001b[38;5;124m'\u001b[39m\u001b[38;5;124mError(s) in loading state_dict for \u001b[39m\u001b[38;5;132;01m{}\u001b[39;00m\u001b[38;5;124m:\u001b[39m\u001b[38;5;130;01m\\n\u001b[39;00m\u001b[38;5;130;01m\\t\u001b[39;00m\u001b[38;5;132;01m{}\u001b[39;00m\u001b[38;5;124m'\u001b[39m\u001b[38;5;241m.\u001b[39mformat(\n\u001b[1;32m   2216\u001b[0m                        \u001b[38;5;28mself\u001b[39m\u001b[38;5;241m.\u001b[39m\u001b[38;5;18m__class__\u001b[39m\u001b[38;5;241m.\u001b[39m\u001b[38;5;18m__name__\u001b[39m, \u001b[38;5;124m\"\u001b[39m\u001b[38;5;130;01m\\n\u001b[39;00m\u001b[38;5;130;01m\\t\u001b[39;00m\u001b[38;5;124m\"\u001b[39m\u001b[38;5;241m.\u001b[39mjoin(error_msgs)))\n\u001b[1;32m   2217\u001b[0m \u001b[38;5;28;01mreturn\u001b[39;00m _IncompatibleKeys(missing_keys, unexpected_keys)\n",
      "\u001b[0;31mRuntimeError\u001b[0m: Error(s) in loading state_dict for AutoEncoder:\n\tsize mismatch for pixel_cal.bias: copying a param with shape torch.Size([133, 1, 166, 256]) from checkpoint, the shape in current model is torch.Size([212, 1, 166, 256]).\n\tsize mismatch for learn_blur.weights_raw: copying a param with shape torch.Size([133, 3]) from checkpoint, the shape in current model is torch.Size([212, 3]).\n\tsize mismatch for cal.holder.params: copying a param with shape torch.Size([133, 6]) from checkpoint, the shape in current model is torch.Size([212, 6])."
     ]
    }
   ],
   "source": [
    "# Create model, load weights\n",
    "from addict import Dict as AttrDict\n",
    "from ca_code.utils.module_loader import load_from_config\n",
    "from ca_code.utils.train import load_checkpoint, to_device\n",
    "\n",
    "ckpt_path = \"checkpoints/clothed-body/AXE977/latest.pt\"\n",
    "\n",
    "static_assets = AttrDict(dataset.static_assets)\n",
    "\n",
    "device = \"cuda\"\n",
    "model = (\n",
    "        load_from_config(\n",
    "            config.model,\n",
    "            assets=static_assets,\n",
    "        )\n",
    "        .to(device)\n",
    "        .eval()\n",
    "    )\n",
    "\n",
    "model.learn_blur_enabled = False\n",
    "model.cal_enabled = False\n",
    "\n",
    "# loading model checkpoint\n",
    "load_checkpoint(ckpt_path, modules={\"model\": model}, strict=False)"
   ]
  },
  {
   "cell_type": "code",
   "execution_count": 7,
   "id": "16252272-44d3-44ed-aad9-e56b01f78bfd",
   "metadata": {},
   "outputs": [
    {
     "name": "stdout",
     "output_type": "stream",
     "text": [
      "\u001b[0m\u001b[01;32mdata/shared/static_assets_head.pt\u001b[0m*\n"
     ]
    }
   ],
   "source": [
    "from torchvision.utils import make_grid, save_image\n",
    "from ca_code.utils.image import linear2srgb\n",
    "import torch as th\n",
    "\n",
    "batch_filter_fn = dataset.batch_filter\n",
    "\n",
    "# forward\n",
    "for i, batch in enumerate(loader):\n",
    "    print(f\"{i}/{len(loader)}\")\n",
    "    batch = to_device(batch, device)\n",
    "    batch_filter_fn(batch)\n",
    "\n",
    "    with th.no_grad():\n",
    "        preds = model_p(**batch, index=[180 + i])\n",
    "\n",
    "    # visualizing\n",
    "    rgb_preds_grid = make_grid(linear2srgb(preds[\"rgb\"]), nrow=4)\n",
    "    save_image(rgb_preds_grid, f\"preds/{i}.png\")"
   ]
  },
  {
   "cell_type": "code",
   "execution_count": 9,
   "id": "fa2ba2c5-6be2-44c0-9dbc-078f89952973",
   "metadata": {},
   "outputs": [
    {
     "name": "stdout",
     "output_type": "stream",
     "text": [
      "\u001b[0m\u001b[01;34mlegacy\u001b[0m/      \u001b[01;32mstatic_assets_body.pt\u001b[0m*       \u001b[01;32mstatic_assets_hand_right.pt\u001b[0m*\n",
      "\u001b[01;32mLICENSE.md\u001b[0m*  \u001b[01;32mstatic_assets_hand_left.pt\u001b[0m*  \u001b[01;32mstatic_assets_head.pt\u001b[0m*\n"
     ]
    }
   ],
   "source": [
    "ls data/shared"
   ]
  },
  {
   "cell_type": "code",
   "execution_count": null,
   "id": "1359058e-9576-4425-8a11-0b0001d93607",
   "metadata": {},
   "outputs": [],
   "source": []
  }
 ],
 "metadata": {
  "kernelspec": {
   "display_name": "Python 3 (ipykernel)",
   "language": "python",
   "name": "python3"
  },
  "language_info": {
   "codemirror_mode": {
    "name": "ipython",
    "version": 3
   },
   "file_extension": ".py",
   "mimetype": "text/x-python",
   "name": "python",
   "nbconvert_exporter": "python",
   "pygments_lexer": "ipython3",
   "version": "3.10.14"
  }
 },
 "nbformat": 4,
 "nbformat_minor": 5
}
