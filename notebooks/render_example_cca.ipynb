{
 "cells": [
  {
   "cell_type": "code",
   "execution_count": 2,
   "id": "43cbd3f0",
   "metadata": {},
   "outputs": [],
   "source": [
    "import sys\n",
    "import os\n",
    "\n",
    "import torch as th\n",
    "\n",
    "# set the right device\n",
    "#os.environ['CUDA_VISIBLE_DEVICES'] = '0'\n",
    "# NOTE: assuming we are in `ca_code/notebooks`\n",
    "sys.path.insert(0, '../')\n",
    "from addict import Dict as AttrDict\n",
    "\n",
    "from omegaconf import OmegaConf\n",
    "from torchvision.utils import make_grid\n",
    "\n",
    "from ca_code.utils.module_loader import load_from_config\n",
    "from ca_code.utils.lbs import LBSModule\n",
    "from ca_code.utils.train import load_checkpoint\n",
    "\n",
    "device = th.device('cuda:0')"
   ]
  },
  {
   "cell_type": "code",
   "execution_count": 3,
   "id": "5caf2480",
   "metadata": {},
   "outputs": [
    {
     "ename": "FileNotFoundError",
     "evalue": "[Errno 2] No such file or directory: '/mnt/home/julietamartinez/goliath/data/cca/PXB184/config.yml'",
     "output_type": "error",
     "traceback": [
      "\u001b[0;31m---------------------------------------------------------------------------\u001b[0m",
      "\u001b[0;31mFileNotFoundError\u001b[0m                         Traceback (most recent call last)",
      "Cell \u001b[0;32mIn[3], line 9\u001b[0m\n\u001b[1;32m      6\u001b[0m assets_path \u001b[38;5;241m=\u001b[39m \u001b[38;5;124mf\u001b[39m\u001b[38;5;124m'\u001b[39m\u001b[38;5;132;01m{\u001b[39;00mmodel_dir\u001b[38;5;132;01m}\u001b[39;00m\u001b[38;5;124m/static_assets.pt\u001b[39m\u001b[38;5;124m'\u001b[39m\n\u001b[1;32m      8\u001b[0m \u001b[38;5;66;03m# config\u001b[39;00m\n\u001b[0;32m----> 9\u001b[0m config \u001b[38;5;241m=\u001b[39m \u001b[43mOmegaConf\u001b[49m\u001b[38;5;241;43m.\u001b[39;49m\u001b[43mload\u001b[49m\u001b[43m(\u001b[49m\u001b[43mconfig_path\u001b[49m\u001b[43m)\u001b[49m\n\u001b[1;32m     10\u001b[0m \u001b[38;5;66;03m# assets\u001b[39;00m\n\u001b[1;32m     11\u001b[0m static_assets \u001b[38;5;241m=\u001b[39m AttrDict(th\u001b[38;5;241m.\u001b[39mload(assets_path))\n",
      "File \u001b[0;32m/mnt/projects/conda-envs/dgxenv-2024-11-27-08-23-26-x2139-centos9-py310-pt251cf/lib/python3.10/site-packages/omegaconf/omegaconf.py:189\u001b[0m, in \u001b[0;36mOmegaConf.load\u001b[0;34m(file_)\u001b[0m\n\u001b[1;32m    186\u001b[0m \u001b[38;5;28;01mfrom\u001b[39;00m \u001b[38;5;21;01m.\u001b[39;00m\u001b[38;5;21;01m_utils\u001b[39;00m \u001b[38;5;28;01mimport\u001b[39;00m get_yaml_loader\n\u001b[1;32m    188\u001b[0m \u001b[38;5;28;01mif\u001b[39;00m \u001b[38;5;28misinstance\u001b[39m(file_, (\u001b[38;5;28mstr\u001b[39m, pathlib\u001b[38;5;241m.\u001b[39mPath)):\n\u001b[0;32m--> 189\u001b[0m     \u001b[38;5;28;01mwith\u001b[39;00m \u001b[43mio\u001b[49m\u001b[38;5;241;43m.\u001b[39;49m\u001b[43mopen\u001b[49m\u001b[43m(\u001b[49m\u001b[43mos\u001b[49m\u001b[38;5;241;43m.\u001b[39;49m\u001b[43mpath\u001b[49m\u001b[38;5;241;43m.\u001b[39;49m\u001b[43mabspath\u001b[49m\u001b[43m(\u001b[49m\u001b[43mfile_\u001b[49m\u001b[43m)\u001b[49m\u001b[43m,\u001b[49m\u001b[43m \u001b[49m\u001b[38;5;124;43m\"\u001b[39;49m\u001b[38;5;124;43mr\u001b[39;49m\u001b[38;5;124;43m\"\u001b[39;49m\u001b[43m,\u001b[49m\u001b[43m \u001b[49m\u001b[43mencoding\u001b[49m\u001b[38;5;241;43m=\u001b[39;49m\u001b[38;5;124;43m\"\u001b[39;49m\u001b[38;5;124;43mutf-8\u001b[39;49m\u001b[38;5;124;43m\"\u001b[39;49m\u001b[43m)\u001b[49m \u001b[38;5;28;01mas\u001b[39;00m f:\n\u001b[1;32m    190\u001b[0m         obj \u001b[38;5;241m=\u001b[39m yaml\u001b[38;5;241m.\u001b[39mload(f, Loader\u001b[38;5;241m=\u001b[39mget_yaml_loader())\n\u001b[1;32m    191\u001b[0m \u001b[38;5;28;01melif\u001b[39;00m \u001b[38;5;28mgetattr\u001b[39m(file_, \u001b[38;5;124m\"\u001b[39m\u001b[38;5;124mread\u001b[39m\u001b[38;5;124m\"\u001b[39m, \u001b[38;5;28;01mNone\u001b[39;00m):\n",
      "\u001b[0;31mFileNotFoundError\u001b[0m: [Errno 2] No such file or directory: '/mnt/home/julietamartinez/goliath/data/cca/PXB184/config.yml'"
     ]
    }
   ],
   "source": [
    "# NOTE: make sure to download the data\n",
    "model_dir = '../data/cca/PXB184'\n",
    "\n",
    "ckpt_path = f'{model_dir}/body_dec.ckpt'\n",
    "config_path = f'{model_dir}/config.yml'\n",
    "assets_path = f'{model_dir}/static_assets.pt'\n",
    "\n",
    "# config\n",
    "config = OmegaConf.load(config_path)\n",
    "# assets\n",
    "static_assets = AttrDict(th.load(assets_path))\n",
    "# sample batch\n",
    "batch = th.load(f'{model_dir}/sample_batch.pt')\n",
    "batch = to_device(batch, device)"
   ]
  },
  {
   "cell_type": "code",
   "execution_count": null,
   "id": "73331f2e",
   "metadata": {},
   "outputs": [],
   "source": [
    "# building the model\n",
    "model = load_from_config(\n",
    "    config.model, \n",
    "    assets=static_assets,\n",
    ").to(device)\n",
    "\n",
    "# loading model checkpoint\n",
    "load_checkpoint(\n",
    "    ckpt_path, \n",
    "    modules={'model': model},\n",
    "    # NOTE: this is accounting for difference in LBS impl\n",
    "    ignore_names={'model': ['lbs_fn.*']},\n",
    ")"
   ]
  },
  {
   "cell_type": "code",
   "execution_count": null,
   "id": "86a2a291",
   "metadata": {},
   "outputs": [],
   "source": [
    "# disabling training-only stuff\n",
    "model.learn_blur_enabled = False\n",
    "model.pixel_cal_enabled = False\n",
    "model.cal_enabled = False\n",
    "\n",
    "# forward\n",
    "with th.no_grad():\n",
    "    preds = model(**batch)"
   ]
  },
  {
   "cell_type": "code",
   "execution_count": null,
   "id": "9a566533",
   "metadata": {},
   "outputs": [],
   "source": [
    "# visualizing\n",
    "rgb_preds_grid = make_grid(preds['rgb'], nrow=4).permute(1, 2, 0).cpu().numpy() / 255.\n",
    "plt.figure(figsize=(15, 15))\n",
    "plt.imshow(rgb_preds_grid[::4,::4])"
   ]
  }
 ],
 "metadata": {
  "kernelspec": {
   "display_name": "Python 3 (ipykernel)",
   "language": "python",
   "name": "python3"
  },
  "language_info": {
   "codemirror_mode": {
    "name": "ipython",
    "version": 3
   },
   "file_extension": ".py",
   "mimetype": "text/x-python",
   "name": "python",
   "nbconvert_exporter": "python",
   "pygments_lexer": "ipython3",
   "version": "3.10.15"
  }
 },
 "nbformat": 4,
 "nbformat_minor": 5
}
